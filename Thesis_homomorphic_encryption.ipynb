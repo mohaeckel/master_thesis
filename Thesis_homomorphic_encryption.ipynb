{
 "cells": [
  {
   "cell_type": "code",
   "execution_count": 1,
   "id": "b3d111d2",
   "metadata": {},
   "outputs": [],
   "source": [
    "import concrete.numpy as cnp\n",
    "import numpy as np\n",
    "import pandas as pd\n",
    "import time\n",
    "from matplotlib import pyplot as plt"
   ]
  },
  {
   "cell_type": "markdown",
   "id": "4c562d1b",
   "metadata": {},
   "source": [
    "# Data Cleaning"
   ]
  },
  {
   "cell_type": "code",
   "execution_count": 2,
   "id": "443832f0",
   "metadata": {
    "collapsed": true
   },
   "outputs": [
    {
     "name": "stderr",
     "output_type": "stream",
     "text": [
      "/usr/local/lib/python3.8/dist-packages/IPython/core/interactiveshell.py:3378: DtypeWarning: Columns (10) have mixed types.Specify dtype option on import or set low_memory=False.\n",
      "  exec(code_obj, self.user_global_ns, self.user_ns)\n"
     ]
    },
    {
     "data": {
      "text/html": [
       "<div>\n",
       "<style scoped>\n",
       "    .dataframe tbody tr th:only-of-type {\n",
       "        vertical-align: middle;\n",
       "    }\n",
       "\n",
       "    .dataframe tbody tr th {\n",
       "        vertical-align: top;\n",
       "    }\n",
       "\n",
       "    .dataframe thead th {\n",
       "        text-align: right;\n",
       "    }\n",
       "</style>\n",
       "<table border=\"1\" class=\"dataframe\">\n",
       "  <thead>\n",
       "    <tr style=\"text-align: right;\">\n",
       "      <th></th>\n",
       "      <th>Health Service Area</th>\n",
       "      <th>Hospital County</th>\n",
       "      <th>Operating Certificate Number</th>\n",
       "      <th>Facility Id</th>\n",
       "      <th>Facility Name</th>\n",
       "      <th>Age Group</th>\n",
       "      <th>Zip Code - 3 digits</th>\n",
       "      <th>Gender</th>\n",
       "      <th>Race</th>\n",
       "      <th>Ethnicity</th>\n",
       "      <th>...</th>\n",
       "      <th>Payment Typology 2</th>\n",
       "      <th>Payment Typology 3</th>\n",
       "      <th>Attending Provider License Number</th>\n",
       "      <th>Operating Provider License Number</th>\n",
       "      <th>Other Provider License Number</th>\n",
       "      <th>Birth Weight</th>\n",
       "      <th>Abortion Edit Indicator</th>\n",
       "      <th>Emergency Department Indicator</th>\n",
       "      <th>Total Charges</th>\n",
       "      <th>Total Costs</th>\n",
       "    </tr>\n",
       "  </thead>\n",
       "  <tbody>\n",
       "    <tr>\n",
       "      <th>1987500</th>\n",
       "      <td>New York City</td>\n",
       "      <td>Richmond</td>\n",
       "      <td>7004003.0</td>\n",
       "      <td>1740.0</td>\n",
       "      <td>Staten Island University Hosp-North</td>\n",
       "      <td>50 to 69</td>\n",
       "      <td>OOS</td>\n",
       "      <td>M</td>\n",
       "      <td>White</td>\n",
       "      <td>Not Span/Hispanic</td>\n",
       "      <td>...</td>\n",
       "      <td>Medicare</td>\n",
       "      <td>NaN</td>\n",
       "      <td>214932.0</td>\n",
       "      <td>130543.0</td>\n",
       "      <td>NaN</td>\n",
       "      <td>0</td>\n",
       "      <td>N</td>\n",
       "      <td>Y</td>\n",
       "      <td>$27458.74</td>\n",
       "      <td>$5254.69</td>\n",
       "    </tr>\n",
       "    <tr>\n",
       "      <th>2075011</th>\n",
       "      <td>Long Island</td>\n",
       "      <td>Nassau</td>\n",
       "      <td>2908000.0</td>\n",
       "      <td>511.0</td>\n",
       "      <td>Winthrop-University Hospital</td>\n",
       "      <td>30 to 49</td>\n",
       "      <td>114</td>\n",
       "      <td>F</td>\n",
       "      <td>Other Race</td>\n",
       "      <td>Not Span/Hispanic</td>\n",
       "      <td>...</td>\n",
       "      <td>NaN</td>\n",
       "      <td>NaN</td>\n",
       "      <td>214131.0</td>\n",
       "      <td>NaN</td>\n",
       "      <td>NaN</td>\n",
       "      <td>0</td>\n",
       "      <td>N</td>\n",
       "      <td>Y</td>\n",
       "      <td>$25066.68</td>\n",
       "      <td>$4172.78</td>\n",
       "    </tr>\n",
       "    <tr>\n",
       "      <th>2178800</th>\n",
       "      <td>Long Island</td>\n",
       "      <td>Nassau</td>\n",
       "      <td>2951001.0</td>\n",
       "      <td>541.0</td>\n",
       "      <td>North Shore University Hospital</td>\n",
       "      <td>30 to 49</td>\n",
       "      <td>115</td>\n",
       "      <td>F</td>\n",
       "      <td>White</td>\n",
       "      <td>Not Span/Hispanic</td>\n",
       "      <td>...</td>\n",
       "      <td>NaN</td>\n",
       "      <td>NaN</td>\n",
       "      <td>161044.0</td>\n",
       "      <td>161044.0</td>\n",
       "      <td>NaN</td>\n",
       "      <td>0</td>\n",
       "      <td>N</td>\n",
       "      <td>N</td>\n",
       "      <td>$28764.67</td>\n",
       "      <td>$7567.57</td>\n",
       "    </tr>\n",
       "    <tr>\n",
       "      <th>220310</th>\n",
       "      <td>Finger Lakes</td>\n",
       "      <td>Monroe</td>\n",
       "      <td>2701003.0</td>\n",
       "      <td>411.0</td>\n",
       "      <td>Rochester General Hospital</td>\n",
       "      <td>70 or Older</td>\n",
       "      <td>146</td>\n",
       "      <td>F</td>\n",
       "      <td>White</td>\n",
       "      <td>Not Span/Hispanic</td>\n",
       "      <td>...</td>\n",
       "      <td>NaN</td>\n",
       "      <td>NaN</td>\n",
       "      <td>205882.0</td>\n",
       "      <td>205882.0</td>\n",
       "      <td>NaN</td>\n",
       "      <td>0</td>\n",
       "      <td>N</td>\n",
       "      <td>N</td>\n",
       "      <td>$17862.81</td>\n",
       "      <td>$8144.56</td>\n",
       "    </tr>\n",
       "    <tr>\n",
       "      <th>2291110</th>\n",
       "      <td>Long Island</td>\n",
       "      <td>Suffolk</td>\n",
       "      <td>5154000.0</td>\n",
       "      <td>924.0</td>\n",
       "      <td>Southside Hospital</td>\n",
       "      <td>70 or Older</td>\n",
       "      <td>117</td>\n",
       "      <td>F</td>\n",
       "      <td>White</td>\n",
       "      <td>Not Span/Hispanic</td>\n",
       "      <td>...</td>\n",
       "      <td>Medicare</td>\n",
       "      <td>NaN</td>\n",
       "      <td>166249.0</td>\n",
       "      <td>249241.0</td>\n",
       "      <td>NaN</td>\n",
       "      <td>0</td>\n",
       "      <td>N</td>\n",
       "      <td>Y</td>\n",
       "      <td>$117563.88</td>\n",
       "      <td>$31092.25</td>\n",
       "    </tr>\n",
       "  </tbody>\n",
       "</table>\n",
       "<p>5 rows × 37 columns</p>\n",
       "</div>"
      ],
      "text/plain": [
       "        Health Service Area Hospital County  Operating Certificate Number  \\\n",
       "1987500       New York City        Richmond                     7004003.0   \n",
       "2075011         Long Island          Nassau                     2908000.0   \n",
       "2178800         Long Island          Nassau                     2951001.0   \n",
       "220310         Finger Lakes          Monroe                     2701003.0   \n",
       "2291110         Long Island         Suffolk                     5154000.0   \n",
       "\n",
       "         Facility Id                        Facility Name    Age Group  \\\n",
       "1987500       1740.0  Staten Island University Hosp-North     50 to 69   \n",
       "2075011        511.0         Winthrop-University Hospital     30 to 49   \n",
       "2178800        541.0      North Shore University Hospital     30 to 49   \n",
       "220310         411.0           Rochester General Hospital  70 or Older   \n",
       "2291110        924.0                   Southside Hospital  70 or Older   \n",
       "\n",
       "        Zip Code - 3 digits Gender        Race          Ethnicity  ...  \\\n",
       "1987500                 OOS      M       White  Not Span/Hispanic  ...   \n",
       "2075011                 114      F  Other Race  Not Span/Hispanic  ...   \n",
       "2178800                 115      F       White  Not Span/Hispanic  ...   \n",
       "220310                  146      F       White  Not Span/Hispanic  ...   \n",
       "2291110                 117      F       White  Not Span/Hispanic  ...   \n",
       "\n",
       "        Payment Typology 2 Payment Typology 3  \\\n",
       "1987500           Medicare                NaN   \n",
       "2075011                NaN                NaN   \n",
       "2178800                NaN                NaN   \n",
       "220310                 NaN                NaN   \n",
       "2291110           Medicare                NaN   \n",
       "\n",
       "        Attending Provider License Number  Operating Provider License Number  \\\n",
       "1987500                          214932.0                           130543.0   \n",
       "2075011                          214131.0                                NaN   \n",
       "2178800                          161044.0                           161044.0   \n",
       "220310                           205882.0                           205882.0   \n",
       "2291110                          166249.0                           249241.0   \n",
       "\n",
       "         Other Provider License Number Birth Weight  Abortion Edit Indicator  \\\n",
       "1987500                            NaN            0                        N   \n",
       "2075011                            NaN            0                        N   \n",
       "2178800                            NaN            0                        N   \n",
       "220310                             NaN            0                        N   \n",
       "2291110                            NaN            0                        N   \n",
       "\n",
       "        Emergency Department Indicator  Total Charges Total Costs  \n",
       "1987500                              Y      $27458.74    $5254.69  \n",
       "2075011                              Y      $25066.68    $4172.78  \n",
       "2178800                              N      $28764.67    $7567.57  \n",
       "220310                               N      $17862.81    $8144.56  \n",
       "2291110                              Y     $117563.88   $31092.25  \n",
       "\n",
       "[5 rows x 37 columns]"
      ]
     },
     "execution_count": 2,
     "metadata": {},
     "output_type": "execute_result"
    }
   ],
   "source": [
    "df_hosp = pd.read_csv('Hospital_Inpatient_Discharges__SPARCS_De-Identified___2015.csv')\n",
    "df_hosp = df_hosp.sample(n = int(len(df_hosp)*0.25))\n",
    "\n",
    "df_hosp.head()"
   ]
  },
  {
   "cell_type": "code",
   "execution_count": 3,
   "id": "99340f48",
   "metadata": {},
   "outputs": [],
   "source": [
    "# data cleaning\n",
    "\n",
    "df_hosp.drop(columns=['Type of Admission', 'Patient Disposition', 'Payment Typology 1', 'Payment Typology 2',\n",
    "                     'Payment Typology 3', 'Attending Provider License Number', 'Operating Provider License Number',\n",
    "                     'Other Provider License Number', 'Total Charges', 'Total Costs', 'Zip Code - 3 digits', \n",
    "                      'APR DRG Code', 'APR DRG Description', 'APR MDC Code', 'APR MDC Description', \n",
    "                      'APR Medical Surgical Description', 'Birth Weight', 'Abortion Edit Indicator', 'Emergency Department Indicator'], inplace=True)\n",
    "\n",
    "df_hosp.columns = df_hosp.columns.str.replace(' ', '_').str.lower()\n",
    "\n",
    "df_hosp.length_of_stay.replace('120 +', '120', inplace=True)\n",
    "df_hosp['length_of_stay'] = df_hosp['length_of_stay'].apply(lambda x: str(x).split(' ')[0])\n",
    "df_hosp['length_of_stay'] = pd.to_numeric(df_hosp['length_of_stay'])\n",
    "\n",
    "df_hosp.to_csv('Hospital_Inpatient_Discharges__SPARCS_De-Identified___2015_cleaned.csv')"
   ]
  },
  {
   "cell_type": "code",
   "execution_count": 2,
   "id": "c1b20844",
   "metadata": {},
   "outputs": [],
   "source": [
    "df_hosp = pd.read_csv('Hospital_Inpatient_Discharges__SPARCS_De-Identified___2015_cleaned.csv')"
   ]
  },
  {
   "cell_type": "markdown",
   "id": "240881b7",
   "metadata": {},
   "source": [
    "# **Mean**"
   ]
  },
  {
   "cell_type": "code",
   "execution_count": 3,
   "id": "bdbac295",
   "metadata": {},
   "outputs": [],
   "source": [
    "#make df for saving time of keygen\n",
    "#create df for saving avg calc times\n",
    "\n",
    "df_avg_keygen = pd.DataFrame({'nr_entries': [], 'times_keygen': []})\n",
    "df_avg_calc = pd.DataFrame({'nr_entries': [], 'times_calc_encr': []})"
   ]
  },
  {
   "cell_type": "code",
   "execution_count": 4,
   "id": "061a2231",
   "metadata": {},
   "outputs": [],
   "source": [
    "#prepare subdataframe for inputting into HE function\n",
    "#only numbers from 1-21 length of stay\n",
    "\n",
    "df_hosp_avg = df_hosp.query('length_of_stay >= 1 and length_of_stay <= 14')\n"
   ]
  },
  {
   "cell_type": "code",
   "execution_count": 5,
   "id": "933fd913",
   "metadata": {},
   "outputs": [],
   "source": [
    "# 20 data points\n",
    "entries = 20\n",
    "\n",
    "start = time.time()\n",
    "\n",
    "def div(x):\n",
    "    return np.sum(x) // x.size\n",
    "\n",
    "compiler = cnp.Compiler(div, {\"x\": \"encrypted\"})\n",
    "\n",
    "inputset = [np.random.randint(1, 14, size=(1, entries))]\n",
    "#inputset = [np.random.randint(1, 30, size=(1, entries)) for _ in range(entries)]\n",
    "#inputset = [[1, 10, 40, 90, 100]]\n",
    "\n",
    "circuit_avg_20 = compiler.compile(inputset)\n",
    "\n",
    "circuit_avg_20.keygen()\n",
    "\n",
    "time_elapsed = time.time()-start\n",
    "\n",
    "df_avg_keygen = df_avg_keygen.append({'nr_entries': entries, 'times_keygen': time_elapsed}, ignore_index=True)\n",
    "\n",
    "df_avg_keygen.to_csv('keygen20.csv')\n"
   ]
  },
  {
   "cell_type": "code",
   "execution_count": 6,
   "id": "45118e18",
   "metadata": {},
   "outputs": [
    {
     "name": "stdout",
     "output_type": "stream",
     "text": [
      "Mean of Length of Stay for Cattaraugus county for patients staying less than 2 weeks: 3\n"
     ]
    }
   ],
   "source": [
    "df_input = df_hosp_avg[df_hosp_avg['hospital_county'] == 'Cattaraugus'].sample(20)\n",
    "input_avg20 = np.array(df_input.length_of_stay)\n",
    "input_avg20 = input_avg20.reshape(1,20)\n",
    "\n",
    "start = time.time()\n",
    "\n",
    "he_avg20 = circuit_avg_20.encrypt_run_decrypt(input_avg20)\n",
    "\n",
    "time_elapsed = time.time()-start\n",
    "\n",
    "df_avg_calc = df_avg_calc.append({'nr_entries': entries, 'times_calc_encr': time_elapsed}, ignore_index=True)\n",
    "df_avg_calc.to_csv('avg20.csv')\n",
    "\n",
    "print(f'Mean of Length of Stay for Cattaraugus county for patients staying less than 2 weeks: {he_avg20}')"
   ]
  },
  {
   "cell_type": "code",
   "execution_count": 7,
   "id": "3b3e372b",
   "metadata": {},
   "outputs": [],
   "source": [
    "# 15 data points\n",
    "entries = 15\n",
    "\n",
    "start = time.time()\n",
    "\n",
    "def div(x):\n",
    "    return np.sum(x) // x.size\n",
    "\n",
    "compiler = cnp.Compiler(div, {\"x\": \"encrypted\"})\n",
    "\n",
    "inputset = [np.random.randint(1, 14, size=(1, entries))]\n",
    "\n",
    "\n",
    "circuit_avg_15 = compiler.compile(inputset)\n",
    "\n",
    "circuit_avg_15.keygen()\n",
    "\n",
    "time_elapsed = time.time()-start\n",
    "\n",
    "df_avg_keygen = df_avg_keygen.append({'nr_entries': entries, 'times_keygen': time_elapsed}, ignore_index=True)\n",
    "\n",
    "df_avg_keygen.to_csv('keygen15.csv')\n"
   ]
  },
  {
   "cell_type": "code",
   "execution_count": 8,
   "id": "c561a143",
   "metadata": {},
   "outputs": [
    {
     "name": "stdout",
     "output_type": "stream",
     "text": [
      "Mean of Length of Stay for Cattaraugus county for patients staying less than 2 weeks: 5\n"
     ]
    }
   ],
   "source": [
    "df_input = df_hosp_avg[df_hosp_avg['hospital_county'] == 'Cattaraugus'].sample(15)\n",
    "input_avg15 = np.array(df_input.length_of_stay)\n",
    "input_avg15 = input_avg15.reshape(1,15)\n",
    "\n",
    "start = time.time()\n",
    "\n",
    "he_avg15 = circuit_avg_15.encrypt_run_decrypt(input_avg15)\n",
    "\n",
    "time_elapsed = time.time()-start\n",
    "\n",
    "df_avg_calc = df_avg_calc.append({'nr_entries': entries, 'times_calc_encr': time_elapsed}, ignore_index=True)\n",
    "df_avg_calc.to_csv('avg15.csv')\n",
    "\n",
    "print(f'Mean of Length of Stay for Cattaraugus county for patients staying less than 2 weeks: {he_avg15}')"
   ]
  },
  {
   "cell_type": "code",
   "execution_count": 9,
   "id": "ce3d091a",
   "metadata": {},
   "outputs": [],
   "source": [
    "#10 data points\n",
    "entries = 10\n",
    "\n",
    "start = time.time()\n",
    "\n",
    "def div(x):\n",
    "    return np.sum(x) // x.size\n",
    "\n",
    "compiler = cnp.Compiler(div, {\"x\": \"encrypted\"})\n",
    "\n",
    "inputset = [np.random.randint(1, 14, size=(1, entries))]\n",
    "\n",
    "\n",
    "circuit_avg_10 = compiler.compile(inputset)\n",
    "\n",
    "circuit_avg_10.keygen()\n",
    "\n",
    "time_elapsed = time.time()-start\n",
    "\n",
    "df_avg_keygen = df_avg_keygen.append({'nr_entries': entries, 'times_keygen': time_elapsed}, ignore_index=True)\n",
    "\n",
    "df_avg_keygen.to_csv('keygen10.csv')\n"
   ]
  },
  {
   "cell_type": "code",
   "execution_count": 10,
   "id": "ab55bda0",
   "metadata": {},
   "outputs": [
    {
     "name": "stdout",
     "output_type": "stream",
     "text": [
      "Mean of Length of Stay for Cattaraugus county for patients staying less than 2 weeks: 4\n"
     ]
    }
   ],
   "source": [
    "df_input = df_hosp_avg[df_hosp_avg['hospital_county'] == 'Cattaraugus'].sample(10)\n",
    "input_avg10 = np.array(df_input.length_of_stay)\n",
    "input_avg10 = input_avg10.reshape(1,10)\n",
    "\n",
    "start = time.time()\n",
    "\n",
    "he_avg10 = circuit_avg_10.encrypt_run_decrypt(input_avg10)\n",
    "\n",
    "time_elapsed = time.time()-start\n",
    "\n",
    "df_avg_calc = df_avg_calc.append({'nr_entries': entries, 'times_calc_encr': time_elapsed}, ignore_index=True)\n",
    "df_avg_calc.to_csv('avg10.csv')\n",
    "\n",
    "print(f'Mean of Length of Stay for Cattaraugus county for patients staying less than 2 weeks: {he_avg10}')"
   ]
  },
  {
   "cell_type": "code",
   "execution_count": 11,
   "id": "bb2396e1",
   "metadata": {},
   "outputs": [],
   "source": [
    "#5 data points\n",
    "entries = 5\n",
    "\n",
    "start = time.time()\n",
    "\n",
    "def div(x):\n",
    "    return np.sum(x) // x.size\n",
    "\n",
    "compiler = cnp.Compiler(div, {\"x\": \"encrypted\"})\n",
    "\n",
    "inputset = [np.random.randint(1, 14, size=(1, entries))]\n",
    "\n",
    "\n",
    "circuit_avg_5 = compiler.compile(inputset)\n",
    "\n",
    "circuit_avg_5.keygen()\n",
    "\n",
    "time_elapsed = time.time()-start\n",
    "\n",
    "df_avg_keygen = df_avg_keygen.append({'nr_entries': entries, 'times_keygen': time_elapsed}, ignore_index=True)\n",
    "\n",
    "df_avg_keygen.to_csv('keygen5.csv')\n"
   ]
  },
  {
   "cell_type": "code",
   "execution_count": 12,
   "id": "1846be2c",
   "metadata": {},
   "outputs": [
    {
     "name": "stdout",
     "output_type": "stream",
     "text": [
      "Mean of Length of Stay for Cattaraugus county for patients staying less than 2 weeks: 3\n"
     ]
    }
   ],
   "source": [
    "df_input = df_hosp_avg[df_hosp_avg['hospital_county'] == 'Cattaraugus'].sample(5)\n",
    "input_avg5 = np.array(df_input.length_of_stay)\n",
    "input_avg5 = input_avg5.reshape(1,5)\n",
    "\n",
    "start = time.time()\n",
    "\n",
    "he_avg5 = circuit_avg_5.encrypt_run_decrypt(input_avg5)\n",
    "\n",
    "time_elapsed = time.time()-start\n",
    "\n",
    "df_avg_calc = df_avg_calc.append({'nr_entries': entries, 'times_calc_encr': time_elapsed}, ignore_index=True)\n",
    "df_avg_calc.to_csv('avg5.csv')\n",
    "\n",
    "print(f'Mean of Length of Stay for Cattaraugus county for patients staying less than 2 weeks: {he_avg5}')"
   ]
  },
  {
   "cell_type": "code",
   "execution_count": 13,
   "id": "27dbb53a",
   "metadata": {},
   "outputs": [
    {
     "data": {
      "image/png": "[encoded data removed]",
      "text/plain": [
       "<Figure size 640x480 with 1 Axes>"
      ]
     },
     "metadata": {},
     "output_type": "display_data"
    }
   ],
   "source": [
    "%matplotlib inline\n",
    "plt.plot(df_avg_calc.nr_entries, df_avg_calc.times_calc_encr, marker='o')\n",
    "plt.xlabel('Number of entries')\n",
    "plt.ylabel('Time for computations in ms')\n",
    "\n",
    "plt.title('Computation time over nr of entries for mean')\n",
    "plt.show()"
   ]
  },
  {
   "cell_type": "code",
   "execution_count": 16,
   "id": "7797f3ae",
   "metadata": {},
   "outputs": [],
   "source": [
    "df_avg_plain = pd.DataFrame({'nr_entries': [], 'times_calc_plain': [], 'results': []})"
   ]
  },
  {
   "cell_type": "code",
   "execution_count": 17,
   "id": "6e81f19f",
   "metadata": {
    "scrolled": true
   },
   "outputs": [
    {
     "data": {
      "text/html": [
       "<div>\n",
       "<style scoped>\n",
       "    .dataframe tbody tr th:only-of-type {\n",
       "        vertical-align: middle;\n",
       "    }\n",
       "\n",
       "    .dataframe tbody tr th {\n",
       "        vertical-align: top;\n",
       "    }\n",
       "\n",
       "    .dataframe thead th {\n",
       "        text-align: right;\n",
       "    }\n",
       "</style>\n",
       "<table border=\"1\" class=\"dataframe\">\n",
       "  <thead>\n",
       "    <tr style=\"text-align: right;\">\n",
       "      <th></th>\n",
       "      <th>nr_entries</th>\n",
       "      <th>times_calc_plain</th>\n",
       "      <th>results</th>\n",
       "    </tr>\n",
       "  </thead>\n",
       "  <tbody>\n",
       "    <tr>\n",
       "      <th>0</th>\n",
       "      <td>5.0</td>\n",
       "      <td>0.000244</td>\n",
       "      <td>3.20</td>\n",
       "    </tr>\n",
       "    <tr>\n",
       "      <th>1</th>\n",
       "      <td>10.0</td>\n",
       "      <td>0.000269</td>\n",
       "      <td>4.30</td>\n",
       "    </tr>\n",
       "    <tr>\n",
       "      <th>2</th>\n",
       "      <td>15.0</td>\n",
       "      <td>0.000123</td>\n",
       "      <td>5.00</td>\n",
       "    </tr>\n",
       "    <tr>\n",
       "      <th>3</th>\n",
       "      <td>20.0</td>\n",
       "      <td>0.000145</td>\n",
       "      <td>3.15</td>\n",
       "    </tr>\n",
       "  </tbody>\n",
       "</table>\n",
       "</div>"
      ],
      "text/plain": [
       "   nr_entries  times_calc_plain  results\n",
       "0         5.0          0.000244     3.20\n",
       "1        10.0          0.000269     4.30\n",
       "2        15.0          0.000123     5.00\n",
       "3        20.0          0.000145     3.15"
      ]
     },
     "execution_count": 17,
     "metadata": {},
     "output_type": "execute_result"
    }
   ],
   "source": [
    "def avg(x):\n",
    "    start = time.time()\n",
    "    result = np.sum(x)/x.size\n",
    "    time_elapsed = time.time()-start\n",
    "    return result, time_elapsed\n",
    "\n",
    "df_avg_plain = df_avg_plain.append({'nr_entries': input_avg5.size, 'times_calc_plain': avg(input_avg5)[1], 'results': avg(input_avg5)[0]}, ignore_index=True)\n",
    "df_avg_plain = df_avg_plain.append({'nr_entries': input_avg10.size, 'times_calc_plain': avg(input_avg10)[1], 'results': avg(input_avg10)[0]}, ignore_index=True)\n",
    "df_avg_plain = df_avg_plain.append({'nr_entries': input_avg15.size, 'times_calc_plain': avg(input_avg15)[1], 'results': avg(input_avg15)[0]}, ignore_index=True)\n",
    "df_avg_plain = df_avg_plain.append({'nr_entries': input_avg20.size, 'times_calc_plain': avg(input_avg20)[1], 'results': avg(input_avg20)[0]}, ignore_index=True)\n",
    "\n",
    "df_avg_plain"
   ]
  },
  {
   "cell_type": "code",
   "execution_count": 18,
   "id": "211f917b",
   "metadata": {},
   "outputs": [],
   "source": [
    "df_avg_plain.to_csv('df_avg_plain.csv')"
   ]
  },
  {
   "cell_type": "code",
   "execution_count": 22,
   "id": "9842392f",
   "metadata": {},
   "outputs": [
    {
     "data": {
      "text/html": [
       "<div>\n",
       "<style scoped>\n",
       "    .dataframe tbody tr th:only-of-type {\n",
       "        vertical-align: middle;\n",
       "    }\n",
       "\n",
       "    .dataframe tbody tr th {\n",
       "        vertical-align: top;\n",
       "    }\n",
       "\n",
       "    .dataframe thead th {\n",
       "        text-align: right;\n",
       "    }\n",
       "</style>\n",
       "<table border=\"1\" class=\"dataframe\">\n",
       "  <thead>\n",
       "    <tr style=\"text-align: right;\">\n",
       "      <th></th>\n",
       "      <th>nr_entries</th>\n",
       "      <th>times_calc_plain</th>\n",
       "      <th>times_calc_encr</th>\n",
       "      <th>factor</th>\n",
       "    </tr>\n",
       "  </thead>\n",
       "  <tbody>\n",
       "    <tr>\n",
       "      <th>0</th>\n",
       "      <td>5.0</td>\n",
       "      <td>0.000244</td>\n",
       "      <td>17.522488</td>\n",
       "      <td>71842.0</td>\n",
       "    </tr>\n",
       "    <tr>\n",
       "      <th>1</th>\n",
       "      <td>10.0</td>\n",
       "      <td>0.000269</td>\n",
       "      <td>21.026711</td>\n",
       "      <td>78116.0</td>\n",
       "    </tr>\n",
       "    <tr>\n",
       "      <th>2</th>\n",
       "      <td>15.0</td>\n",
       "      <td>0.000123</td>\n",
       "      <td>20.881067</td>\n",
       "      <td>170392.0</td>\n",
       "    </tr>\n",
       "    <tr>\n",
       "      <th>3</th>\n",
       "      <td>20.0</td>\n",
       "      <td>0.000145</td>\n",
       "      <td>37.975723</td>\n",
       "      <td>261118.0</td>\n",
       "    </tr>\n",
       "  </tbody>\n",
       "</table>\n",
       "</div>"
      ],
      "text/plain": [
       "   nr_entries  times_calc_plain  times_calc_encr    factor\n",
       "0         5.0          0.000244        17.522488   71842.0\n",
       "1        10.0          0.000269        21.026711   78116.0\n",
       "2        15.0          0.000123        20.881067  170392.0\n",
       "3        20.0          0.000145        37.975723  261118.0"
      ]
     },
     "execution_count": 22,
     "metadata": {},
     "output_type": "execute_result"
    }
   ],
   "source": [
    "merged_avg = pd.merge(df_avg_plain[['nr_entries','times_calc_plain']], df_avg_calc[['nr_entries', 'times_calc_encr']], on='nr_entries')\n",
    "merged_avg = merged_avg.assign(factor=merged_avg['times_calc_encr'] / merged_avg['times_calc_plain'])\n",
    "merged_avg['factor'] = merged_avg['factor'].round()\n",
    "\n",
    "merged_avg"
   ]
  },
  {
   "cell_type": "markdown",
   "id": "f6fcdb70",
   "metadata": {},
   "source": [
    "# **Distribution**"
   ]
  },
  {
   "cell_type": "code",
   "execution_count": 14,
   "id": "0160569c",
   "metadata": {},
   "outputs": [],
   "source": [
    "df_keygen_dist = pd.DataFrame({'nr_entries': [], 'times_keygen': []})\n",
    "df_dist_calc = pd.DataFrame({'nr_entries': [], 'times_calc': []})"
   ]
  },
  {
   "cell_type": "code",
   "execution_count": 15,
   "id": "51e14c58",
   "metadata": {},
   "outputs": [],
   "source": [
    "#25 entries major severity illnes\n",
    "entries = 25\n",
    "\n",
    "start = time.time()\n",
    "\n",
    "def dist_he(x):\n",
    "    return np.where(x == 3, 1, 0)\n",
    "\n",
    "compiler = cnp.Compiler(dist_he, {'x': 'encrypted'})\n",
    "\n",
    "inputset = [np.random.randint(1, 4, size=(1, entries))]\n",
    "\n",
    "\n",
    "circuit_dist_25 = compiler.compile(inputset)\n",
    "\n",
    "circuit_dist_25.keygen()\n",
    "\n",
    "time_elapsed = time.time()-start\n",
    "\n",
    "df_keygen_dist = df_keygen_dist.append({'nr_entries': entries, 'times_keygen': time_elapsed}, ignore_index=True)"
   ]
  },
  {
   "cell_type": "code",
   "execution_count": 16,
   "id": "babde19f",
   "metadata": {},
   "outputs": [
    {
     "name": "stdout",
     "output_type": "stream",
     "text": [
      "Percentage of 18 to 29 year old patients with major severity of illness: 4.0%\n"
     ]
    }
   ],
   "source": [
    "df_input_25 = df_hosp[df_hosp['age_group'] == '18 to 29'].sample(25)\n",
    "input_dist_25 = np.array(df_input_25.apr_severity_of_illness_code)\n",
    "input_dist_25 = input_dist_25.reshape(1,25)\n",
    "\n",
    "\n",
    "start = time.time()\n",
    "\n",
    "he_dist_25 = circuit_dist_25.encrypt_run_decrypt(input_dist_25)\n",
    "result = np.sum(he_dist_25)/he_dist_25.size\n",
    "\n",
    "time_elapsed = time.time()-start\n",
    "\n",
    "df_dist_calc = df_dist_calc.append({'nr_entries': entries, 'times_calc': time_elapsed}, ignore_index=True)\n",
    "\n",
    "print(f'Percentage of 18 to 29 year old patients with major severity of illness: {result*100}%')"
   ]
  },
  {
   "cell_type": "code",
   "execution_count": 17,
   "id": "8e3c5b97",
   "metadata": {},
   "outputs": [],
   "source": [
    "#40 entries major severity illnes\n",
    "entries = 40\n",
    "\n",
    "start = time.time()\n",
    "\n",
    "def dist_he(x):\n",
    "    return np.where(x == 3, 1, 0)\n",
    "\n",
    "compiler = cnp.Compiler(dist_he, {'x': 'encrypted'})\n",
    "\n",
    "inputset = [np.random.randint(1, 4, size=(1, entries))]\n",
    "\n",
    "\n",
    "circuit_dist_40 = compiler.compile(inputset)\n",
    "\n",
    "circuit_dist_40.keygen()\n",
    "\n",
    "time_elapsed = time.time()-start\n",
    "\n",
    "df_keygen_dist = df_keygen_dist.append({'nr_entries': entries, 'times_keygen': time_elapsed}, ignore_index=True)"
   ]
  },
  {
   "cell_type": "code",
   "execution_count": 18,
   "id": "b1abb2f3",
   "metadata": {},
   "outputs": [
    {
     "name": "stdout",
     "output_type": "stream",
     "text": [
      "Percentage of 18 to 29 year old patients with major severity of illness: 10.0%\n"
     ]
    }
   ],
   "source": [
    "df_input_40 = df_hosp[df_hosp['age_group'] == '18 to 29'].sample(40)\n",
    "input_dist_40 = np.array(df_input_40.apr_severity_of_illness_code)\n",
    "input_dist_40 = input_dist_40.reshape(1,40)\n",
    "\n",
    "\n",
    "start = time.time()\n",
    "\n",
    "he_dist_40 = circuit_dist_40.encrypt_run_decrypt(input_dist_40)\n",
    "result = np.sum(he_dist_40)/he_dist_40.size\n",
    "\n",
    "time_elapsed = time.time()-start\n",
    "\n",
    "df_dist_calc = df_dist_calc.append({'nr_entries': entries, 'times_calc': time_elapsed}, ignore_index=True)\n",
    "\n",
    "print(f'Percentage of 18 to 29 year old patients with major severity of illness: {result*100}%')"
   ]
  },
  {
   "cell_type": "code",
   "execution_count": 19,
   "id": "bcc03759",
   "metadata": {},
   "outputs": [],
   "source": [
    "#50 entries major severity illnes\n",
    "entries = 50\n",
    "\n",
    "start = time.time()\n",
    "\n",
    "def dist_he(x):\n",
    "    return np.where(x == 3, 1, 0)\n",
    "\n",
    "compiler = cnp.Compiler(dist_he, {'x': 'encrypted'})\n",
    "\n",
    "inputset = [np.random.randint(1, 4, size=(1, entries))]\n",
    "\n",
    "\n",
    "circuit_dist_50 = compiler.compile(inputset)\n",
    "\n",
    "circuit_dist_50.keygen()\n",
    "\n",
    "time_elapsed = time.time()-start\n",
    "\n",
    "df_keygen_dist = df_keygen_dist.append({'nr_entries': entries, 'times_keygen': time_elapsed}, ignore_index=True)"
   ]
  },
  {
   "cell_type": "code",
   "execution_count": 20,
   "id": "fe51afc5",
   "metadata": {},
   "outputs": [
    {
     "name": "stdout",
     "output_type": "stream",
     "text": [
      "Percentage of 18 to 29 year old patients with major severity of illness: 10.0%\n"
     ]
    }
   ],
   "source": [
    "df_input_50 = df_hosp[df_hosp['age_group'] == '18 to 29'].sample(50)\n",
    "input_dist_50 = np.array(df_input_50.apr_severity_of_illness_code)\n",
    "input_dist_50 = input_dist_50.reshape(1,50)\n",
    "\n",
    "\n",
    "start = time.time()\n",
    "\n",
    "he_dist_50 = circuit_dist_50.encrypt_run_decrypt(input_dist_50)\n",
    "result = np.sum(he_dist_50)/he_dist_50.size\n",
    "\n",
    "time_elapsed = time.time()-start\n",
    "\n",
    "df_dist_calc = df_dist_calc.append({'nr_entries': entries, 'times_calc': time_elapsed}, ignore_index=True)\n",
    "\n",
    "print(f'Percentage of 18 to 29 year old patients with major severity of illness: {result*100}%')"
   ]
  },
  {
   "cell_type": "code",
   "execution_count": 21,
   "id": "a14e9972",
   "metadata": {},
   "outputs": [],
   "source": [
    "#60 entries major severity illnes\n",
    "entries = 60\n",
    "\n",
    "start = time.time()\n",
    "\n",
    "def dist_he(x):\n",
    "    return np.where(x == 3, 1, 0)\n",
    "\n",
    "compiler = cnp.Compiler(dist_he, {'x': 'encrypted'})\n",
    "\n",
    "inputset = [np.random.randint(1, 4, size=(1, entries))]\n",
    "\n",
    "\n",
    "circuit_dist_60 = compiler.compile(inputset)\n",
    "\n",
    "circuit_dist_60.keygen()\n",
    "\n",
    "time_elapsed = time.time()-start\n",
    "\n",
    "df_keygen_dist = df_keygen_dist.append({'nr_entries': entries, 'times_keygen': time_elapsed}, ignore_index=True)"
   ]
  },
  {
   "cell_type": "code",
   "execution_count": 23,
   "id": "abf3ffbb",
   "metadata": {},
   "outputs": [
    {
     "name": "stdout",
     "output_type": "stream",
     "text": [
      "Percentage of 18 to 29 year old patients with major severity of illness: 13.333333333333334%\n"
     ]
    }
   ],
   "source": [
    "df_input_60 = df_hosp[df_hosp['age_group'] == '18 to 29'].sample(60)\n",
    "input_dist_60 = np.array(df_input_60.apr_severity_of_illness_code)\n",
    "input_dist_60 = input_dist_60.reshape(1,60)\n",
    "\n",
    "\n",
    "start = time.time()\n",
    "\n",
    "he_dist_60 = circuit_dist_60.encrypt_run_decrypt(input_dist_60)\n",
    "result = np.sum(he_dist_60)/he_dist_60.size\n",
    "\n",
    "time_elapsed = time.time()-start\n",
    "\n",
    "df_dist_calc = df_dist_calc.append({'nr_entries': entries, 'times_calc': time_elapsed}, ignore_index=True)\n",
    "\n",
    "print(f'Percentage of 18 to 29 year old patients with major severity of illness: {result*100}%')"
   ]
  },
  {
   "cell_type": "code",
   "execution_count": 24,
   "id": "be24cb6b",
   "metadata": {},
   "outputs": [],
   "source": [
    "#75 entries major severity illness\n",
    "entries = 75\n",
    "\n",
    "start = time.time()\n",
    "\n",
    "def dist_he(x):\n",
    "    return np.where(x == 3, 1, 0)\n",
    "\n",
    "compiler = cnp.Compiler(dist_he, {'x': 'encrypted'})\n",
    "\n",
    "inputset = [np.random.randint(0, 4, size=(1, entries))]\n",
    "\n",
    "\n",
    "circuit_dist_75 = compiler.compile(inputset)\n",
    "\n",
    "circuit_dist_75.keygen()\n",
    "\n",
    "time_elapsed = time.time()-start\n",
    "\n",
    "df_keygen_dist = df_keygen_dist.append({'nr_entries': entries, 'times_keygen': time_elapsed}, ignore_index=True)"
   ]
  },
  {
   "cell_type": "code",
   "execution_count": 39,
   "id": "725319f9",
   "metadata": {},
   "outputs": [
    {
     "name": "stdout",
     "output_type": "stream",
     "text": [
      "Percentage of 18 to 29 year old patients with major severity of illness: 16.0%\n"
     ]
    }
   ],
   "source": [
    "df_input_75 = df_hosp[df_hosp['age_group'] == '18 to 29'].sample(75)\n",
    "input_dist_75 = np.array(df_input_75.apr_severity_of_illness_code)\n",
    "input_dist_75 = input_dist_75.reshape(1,75)\n",
    "\n",
    "\n",
    "start = time.time()\n",
    "\n",
    "he_dist_75 = circuit_dist_75.encrypt_run_decrypt(input_dist_75)\n",
    "result = np.sum(he_dist_75)/he_dist_75.size\n",
    "\n",
    "time_elapsed = time.time()-start\n",
    "\n",
    "df_dist_calc = df_dist_calc.append({'nr_entries': entries, 'times_calc': time_elapsed}, ignore_index=True)\n",
    "\n",
    "print(f'Percentage of 18 to 29 year old patients with major severity of illness: {result*100}%')"
   ]
  },
  {
   "cell_type": "code",
   "execution_count": 40,
   "id": "6de88b27",
   "metadata": {},
   "outputs": [],
   "source": [
    "#90 entries major severity illness\n",
    "entries = 90\n",
    "\n",
    "start = time.time()\n",
    "\n",
    "def dist_he(x):\n",
    "    return np.where(x == 3, 1, 0)\n",
    "\n",
    "compiler = cnp.Compiler(dist_he, {'x': 'encrypted'})\n",
    "\n",
    "inputset = [np.random.randint(0, 4, size=(1, entries))]\n",
    "\n",
    "\n",
    "circuit_dist_90 = compiler.compile(inputset)\n",
    "\n",
    "circuit_dist_90.keygen()\n",
    "\n",
    "time_elapsed = time.time()-start\n",
    "\n",
    "df_keygen_dist = df_keygen_dist.append({'nr_entries': entries, 'times_keygen': time_elapsed}, ignore_index=True)"
   ]
  },
  {
   "cell_type": "code",
   "execution_count": 45,
   "id": "5b0403ca",
   "metadata": {},
   "outputs": [
    {
     "name": "stdout",
     "output_type": "stream",
     "text": [
      "Percentage of 18 to 29 year old patients with major severity of illness: 13.333333333333334%\n"
     ]
    }
   ],
   "source": [
    "df_input_90 = df_hosp[df_hosp['age_group'] == '18 to 29'].sample(90)\n",
    "input_dist_90 = np.array(df_input_90.apr_severity_of_illness_code)\n",
    "input_dist_90 = input_dist_90.reshape(1,90)\n",
    "\n",
    "\n",
    "start = time.time()\n",
    "\n",
    "he_dist_90 = circuit_dist_90.encrypt_run_decrypt(input_dist_90)\n",
    "result = np.sum(he_dist_90)/he_dist_90.size\n",
    "\n",
    "time_elapsed = time.time()-start\n",
    "\n",
    "df_dist_calc = df_dist_calc.append({'nr_entries': entries, 'times_calc': time_elapsed}, ignore_index=True)\n",
    "\n",
    "print(f'Percentage of 18 to 29 year old patients with major severity of illness: {result*100}%')"
   ]
  },
  {
   "cell_type": "code",
   "execution_count": 46,
   "id": "6650269b",
   "metadata": {},
   "outputs": [],
   "source": [
    "#100 entries major severity illness\n",
    "entries = 100\n",
    "\n",
    "start = time.time()\n",
    "\n",
    "def dist_he(x):\n",
    "    return np.where(x == 3, 1, 0)\n",
    "\n",
    "compiler = cnp.Compiler(dist_he, {'x': 'encrypted'})\n",
    "\n",
    "inputset = [np.random.randint(0, 4, size=(1, entries))]\n",
    "\n",
    "\n",
    "circuit_dist_100 = compiler.compile(inputset)\n",
    "\n",
    "circuit_dist_100.keygen()\n",
    "\n",
    "time_elapsed = time.time()-start\n",
    "\n",
    "df_keygen_dist = df_keygen_dist.append({'nr_entries': entries, 'times_keygen': time_elapsed}, ignore_index=True)"
   ]
  },
  {
   "cell_type": "code",
   "execution_count": 51,
   "id": "9d6dd980",
   "metadata": {},
   "outputs": [
    {
     "name": "stdout",
     "output_type": "stream",
     "text": [
      "Percentage of 18 to 29 year old patients with major severity of illness: 7.000000000000001%\n"
     ]
    }
   ],
   "source": [
    "df_input_100 = df_hosp[df_hosp['age_group'] == '18 to 29'].sample(100)\n",
    "input_dist_100 = np.array(df_input_100.apr_severity_of_illness_code)\n",
    "input_dist_100 = input_dist_100.reshape(1,100)\n",
    "\n",
    "\n",
    "start = time.time()\n",
    "\n",
    "he_dist_100 = circuit_dist_100.encrypt_run_decrypt(input_dist_100)\n",
    "result = np.sum(he_dist_100)/he_dist_100.size\n",
    "\n",
    "time_elapsed = time.time()-start\n",
    "\n",
    "df_dist_calc = df_dist_calc.append({'nr_entries': entries, 'times_calc': time_elapsed}, ignore_index=True)\n",
    "\n",
    "print(f'Percentage of 18 to 29 year old patients with major severity of illness: {result*100}%')"
   ]
  },
  {
   "cell_type": "code",
   "execution_count": 53,
   "id": "0542e653",
   "metadata": {},
   "outputs": [],
   "source": [
    "df_keygen_dist.to_csv('df_keygen_dist.csv')"
   ]
  },
  {
   "cell_type": "code",
   "execution_count": 54,
   "id": "a7ba449f",
   "metadata": {},
   "outputs": [],
   "source": [
    "df_dist_calc.to_csv('df_dist_calc.csv')"
   ]
  },
  {
   "cell_type": "code",
   "execution_count": 55,
   "id": "09ddeb4f",
   "metadata": {},
   "outputs": [],
   "source": [
    "df_dist_calc_plain = pd.DataFrame({'nr_entries': [], 'times_calc': [], 'results': []})"
   ]
  },
  {
   "cell_type": "code",
   "execution_count": 56,
   "id": "6d71e03b",
   "metadata": {},
   "outputs": [
    {
     "data": {
      "text/html": [
       "<div>\n",
       "<style scoped>\n",
       "    .dataframe tbody tr th:only-of-type {\n",
       "        vertical-align: middle;\n",
       "    }\n",
       "\n",
       "    .dataframe tbody tr th {\n",
       "        vertical-align: top;\n",
       "    }\n",
       "\n",
       "    .dataframe thead th {\n",
       "        text-align: right;\n",
       "    }\n",
       "</style>\n",
       "<table border=\"1\" class=\"dataframe\">\n",
       "  <thead>\n",
       "    <tr style=\"text-align: right;\">\n",
       "      <th></th>\n",
       "      <th>nr_entries</th>\n",
       "      <th>times_calc</th>\n",
       "      <th>results</th>\n",
       "    </tr>\n",
       "  </thead>\n",
       "  <tbody>\n",
       "    <tr>\n",
       "      <th>0</th>\n",
       "      <td>25.0</td>\n",
       "      <td>0.000961</td>\n",
       "      <td>0.040000</td>\n",
       "    </tr>\n",
       "    <tr>\n",
       "      <th>1</th>\n",
       "      <td>40.0</td>\n",
       "      <td>0.000249</td>\n",
       "      <td>0.100000</td>\n",
       "    </tr>\n",
       "    <tr>\n",
       "      <th>2</th>\n",
       "      <td>50.0</td>\n",
       "      <td>0.000193</td>\n",
       "      <td>0.100000</td>\n",
       "    </tr>\n",
       "    <tr>\n",
       "      <th>3</th>\n",
       "      <td>60.0</td>\n",
       "      <td>0.000165</td>\n",
       "      <td>0.133333</td>\n",
       "    </tr>\n",
       "    <tr>\n",
       "      <th>4</th>\n",
       "      <td>75.0</td>\n",
       "      <td>0.000165</td>\n",
       "      <td>0.160000</td>\n",
       "    </tr>\n",
       "    <tr>\n",
       "      <th>5</th>\n",
       "      <td>90.0</td>\n",
       "      <td>0.000144</td>\n",
       "      <td>0.133333</td>\n",
       "    </tr>\n",
       "    <tr>\n",
       "      <th>6</th>\n",
       "      <td>100.0</td>\n",
       "      <td>0.000130</td>\n",
       "      <td>0.070000</td>\n",
       "    </tr>\n",
       "  </tbody>\n",
       "</table>\n",
       "</div>"
      ],
      "text/plain": [
       "   nr_entries  times_calc   results\n",
       "0        25.0    0.000961  0.040000\n",
       "1        40.0    0.000249  0.100000\n",
       "2        50.0    0.000193  0.100000\n",
       "3        60.0    0.000165  0.133333\n",
       "4        75.0    0.000165  0.160000\n",
       "5        90.0    0.000144  0.133333\n",
       "6       100.0    0.000130  0.070000"
      ]
     },
     "execution_count": 56,
     "metadata": {},
     "output_type": "execute_result"
    }
   ],
   "source": [
    "#perform the calculations unencrypted\n",
    "\n",
    "def dist(x):\n",
    "    start = time.time()\n",
    "    a = np.where(x == 3, 1, 0)\n",
    "    result = np.sum(a)/a.size\n",
    "    time_elapsed = time.time()-start\n",
    "    #df_dist_calc_plain = df_dist_calc_plain.append({'nr_entries': x.size, 'times_calc': time_elapsed}, ignore_index=True)\n",
    "    return result, time_elapsed\n",
    "\n",
    "df_dist_calc_plain = df_dist_calc_plain.append({'nr_entries': input_dist_25.size, 'times_calc': dist(input_dist_25)[1], 'results': dist(input_dist_25)[0]}, ignore_index=True)\n",
    "df_dist_calc_plain = df_dist_calc_plain.append({'nr_entries': input_dist_40.size, 'times_calc': dist(input_dist_40)[1], 'results': dist(input_dist_40)[0]}, ignore_index=True)\n",
    "df_dist_calc_plain = df_dist_calc_plain.append({'nr_entries': input_dist_50.size, 'times_calc': dist(input_dist_50)[1], 'results': dist(input_dist_50)[0]}, ignore_index=True)\n",
    "df_dist_calc_plain = df_dist_calc_plain.append({'nr_entries': input_dist_60.size, 'times_calc': dist(input_dist_60)[1], 'results': dist(input_dist_60)[0]}, ignore_index=True)\n",
    "df_dist_calc_plain = df_dist_calc_plain.append({'nr_entries': input_dist_75.size, 'times_calc': dist(input_dist_75)[1], 'results': dist(input_dist_75)[0]}, ignore_index=True)\n",
    "df_dist_calc_plain = df_dist_calc_plain.append({'nr_entries': input_dist_90.size, 'times_calc': dist(input_dist_90)[1], 'results': dist(input_dist_90)[0]}, ignore_index=True)\n",
    "df_dist_calc_plain = df_dist_calc_plain.append({'nr_entries': input_dist_100.size, 'times_calc': dist(input_dist_100)[1], 'results': dist(input_dist_100)[0]}, ignore_index=True)\n",
    "df_dist_calc_plain"
   ]
  },
  {
   "cell_type": "code",
   "execution_count": 57,
   "id": "3d9e28a1",
   "metadata": {},
   "outputs": [],
   "source": [
    "df_dist_calc_plain.to_csv('df_dist_calc_plain.csv')"
   ]
  },
  {
   "cell_type": "code",
   "execution_count": 58,
   "id": "75f26800",
   "metadata": {},
   "outputs": [
    {
     "data": {
      "image/png": "[encoded data removed]",
      "text/plain": [
       "<Figure size 640x480 with 1 Axes>"
      ]
     },
     "metadata": {},
     "output_type": "display_data"
    }
   ],
   "source": [
    "%matplotlib inline\n",
    "plt.plot(df_dist_calc.nr_entries, df_dist_calc.times_calc, marker='o')\n",
    "plt.xlabel('Number of entries')\n",
    "plt.ylabel('Time for computations in ms')\n",
    "\n",
    "plt.title('Computation time over nr of entries')\n",
    "plt.show()"
   ]
  },
  {
   "cell_type": "code",
   "execution_count": 62,
   "id": "ce4520ac",
   "metadata": {},
   "outputs": [
    {
     "data": {
      "text/html": [
       "<div>\n",
       "<style scoped>\n",
       "    .dataframe tbody tr th:only-of-type {\n",
       "        vertical-align: middle;\n",
       "    }\n",
       "\n",
       "    .dataframe tbody tr th {\n",
       "        vertical-align: top;\n",
       "    }\n",
       "\n",
       "    .dataframe thead th {\n",
       "        text-align: right;\n",
       "    }\n",
       "</style>\n",
       "<table border=\"1\" class=\"dataframe\">\n",
       "  <thead>\n",
       "    <tr style=\"text-align: right;\">\n",
       "      <th></th>\n",
       "      <th>nr_entries</th>\n",
       "      <th>times_calc_encr</th>\n",
       "    </tr>\n",
       "  </thead>\n",
       "  <tbody>\n",
       "    <tr>\n",
       "      <th>0</th>\n",
       "      <td>25.0</td>\n",
       "      <td>18.171822</td>\n",
       "    </tr>\n",
       "    <tr>\n",
       "      <th>1</th>\n",
       "      <td>40.0</td>\n",
       "      <td>22.891470</td>\n",
       "    </tr>\n",
       "    <tr>\n",
       "      <th>2</th>\n",
       "      <td>50.0</td>\n",
       "      <td>29.466722</td>\n",
       "    </tr>\n",
       "    <tr>\n",
       "      <th>3</th>\n",
       "      <td>60.0</td>\n",
       "      <td>33.906683</td>\n",
       "    </tr>\n",
       "    <tr>\n",
       "      <th>4</th>\n",
       "      <td>75.0</td>\n",
       "      <td>42.550858</td>\n",
       "    </tr>\n",
       "    <tr>\n",
       "      <th>5</th>\n",
       "      <td>90.0</td>\n",
       "      <td>51.111129</td>\n",
       "    </tr>\n",
       "    <tr>\n",
       "      <th>6</th>\n",
       "      <td>100.0</td>\n",
       "      <td>56.257546</td>\n",
       "    </tr>\n",
       "  </tbody>\n",
       "</table>\n",
       "</div>"
      ],
      "text/plain": [
       "   nr_entries  times_calc_encr\n",
       "0        25.0        18.171822\n",
       "1        40.0        22.891470\n",
       "2        50.0        29.466722\n",
       "3        60.0        33.906683\n",
       "4        75.0        42.550858\n",
       "5        90.0        51.111129\n",
       "6       100.0        56.257546"
      ]
     },
     "execution_count": 62,
     "metadata": {},
     "output_type": "execute_result"
    }
   ],
   "source": [
    "df_dist_calc.rename(columns={'times_calc': 'times_calc_encr'}, inplace=True)\n",
    "df_dist_calc"
   ]
  },
  {
   "cell_type": "code",
   "execution_count": 63,
   "id": "b1319d00",
   "metadata": {},
   "outputs": [
    {
     "data": {
      "text/html": [
       "<div>\n",
       "<style scoped>\n",
       "    .dataframe tbody tr th:only-of-type {\n",
       "        vertical-align: middle;\n",
       "    }\n",
       "\n",
       "    .dataframe tbody tr th {\n",
       "        vertical-align: top;\n",
       "    }\n",
       "\n",
       "    .dataframe thead th {\n",
       "        text-align: right;\n",
       "    }\n",
       "</style>\n",
       "<table border=\"1\" class=\"dataframe\">\n",
       "  <thead>\n",
       "    <tr style=\"text-align: right;\">\n",
       "      <th></th>\n",
       "      <th>nr_entries</th>\n",
       "      <th>times_calc_plain</th>\n",
       "      <th>results</th>\n",
       "    </tr>\n",
       "  </thead>\n",
       "  <tbody>\n",
       "    <tr>\n",
       "      <th>0</th>\n",
       "      <td>25.0</td>\n",
       "      <td>0.000961</td>\n",
       "      <td>0.040000</td>\n",
       "    </tr>\n",
       "    <tr>\n",
       "      <th>1</th>\n",
       "      <td>40.0</td>\n",
       "      <td>0.000249</td>\n",
       "      <td>0.100000</td>\n",
       "    </tr>\n",
       "    <tr>\n",
       "      <th>2</th>\n",
       "      <td>50.0</td>\n",
       "      <td>0.000193</td>\n",
       "      <td>0.100000</td>\n",
       "    </tr>\n",
       "    <tr>\n",
       "      <th>3</th>\n",
       "      <td>60.0</td>\n",
       "      <td>0.000165</td>\n",
       "      <td>0.133333</td>\n",
       "    </tr>\n",
       "    <tr>\n",
       "      <th>4</th>\n",
       "      <td>75.0</td>\n",
       "      <td>0.000165</td>\n",
       "      <td>0.160000</td>\n",
       "    </tr>\n",
       "    <tr>\n",
       "      <th>5</th>\n",
       "      <td>90.0</td>\n",
       "      <td>0.000144</td>\n",
       "      <td>0.133333</td>\n",
       "    </tr>\n",
       "    <tr>\n",
       "      <th>6</th>\n",
       "      <td>100.0</td>\n",
       "      <td>0.000130</td>\n",
       "      <td>0.070000</td>\n",
       "    </tr>\n",
       "  </tbody>\n",
       "</table>\n",
       "</div>"
      ],
      "text/plain": [
       "   nr_entries  times_calc_plain   results\n",
       "0        25.0          0.000961  0.040000\n",
       "1        40.0          0.000249  0.100000\n",
       "2        50.0          0.000193  0.100000\n",
       "3        60.0          0.000165  0.133333\n",
       "4        75.0          0.000165  0.160000\n",
       "5        90.0          0.000144  0.133333\n",
       "6       100.0          0.000130  0.070000"
      ]
     },
     "execution_count": 63,
     "metadata": {},
     "output_type": "execute_result"
    }
   ],
   "source": [
    "df_dist_calc_plain.rename(columns={'times_calc': 'times_calc_plain'}, inplace=True)\n",
    "df_dist_calc_plain"
   ]
  },
  {
   "cell_type": "code",
   "execution_count": 59,
   "id": "8e1969e8",
   "metadata": {},
   "outputs": [
    {
     "data": {
      "text/html": [
       "<div>\n",
       "<style scoped>\n",
       "    .dataframe tbody tr th:only-of-type {\n",
       "        vertical-align: middle;\n",
       "    }\n",
       "\n",
       "    .dataframe tbody tr th {\n",
       "        vertical-align: top;\n",
       "    }\n",
       "\n",
       "    .dataframe thead th {\n",
       "        text-align: right;\n",
       "    }\n",
       "</style>\n",
       "<table border=\"1\" class=\"dataframe\">\n",
       "  <thead>\n",
       "    <tr style=\"text-align: right;\">\n",
       "      <th></th>\n",
       "      <th>nr_entries</th>\n",
       "      <th>times_keygen</th>\n",
       "    </tr>\n",
       "  </thead>\n",
       "  <tbody>\n",
       "    <tr>\n",
       "      <th>0</th>\n",
       "      <td>25.0</td>\n",
       "      <td>10.006033</td>\n",
       "    </tr>\n",
       "    <tr>\n",
       "      <th>1</th>\n",
       "      <td>40.0</td>\n",
       "      <td>8.865733</td>\n",
       "    </tr>\n",
       "    <tr>\n",
       "      <th>2</th>\n",
       "      <td>50.0</td>\n",
       "      <td>8.429107</td>\n",
       "    </tr>\n",
       "    <tr>\n",
       "      <th>3</th>\n",
       "      <td>60.0</td>\n",
       "      <td>8.377146</td>\n",
       "    </tr>\n",
       "    <tr>\n",
       "      <th>4</th>\n",
       "      <td>75.0</td>\n",
       "      <td>9.416203</td>\n",
       "    </tr>\n",
       "    <tr>\n",
       "      <th>5</th>\n",
       "      <td>90.0</td>\n",
       "      <td>8.417687</td>\n",
       "    </tr>\n",
       "    <tr>\n",
       "      <th>6</th>\n",
       "      <td>100.0</td>\n",
       "      <td>8.481077</td>\n",
       "    </tr>\n",
       "  </tbody>\n",
       "</table>\n",
       "</div>"
      ],
      "text/plain": [
       "   nr_entries  times_keygen\n",
       "0        25.0     10.006033\n",
       "1        40.0      8.865733\n",
       "2        50.0      8.429107\n",
       "3        60.0      8.377146\n",
       "4        75.0      9.416203\n",
       "5        90.0      8.417687\n",
       "6       100.0      8.481077"
      ]
     },
     "execution_count": 59,
     "metadata": {},
     "output_type": "execute_result"
    }
   ],
   "source": [
    "df_keygen_dist"
   ]
  },
  {
   "cell_type": "code",
   "execution_count": 28,
   "id": "4c6fb117",
   "metadata": {},
   "outputs": [
    {
     "data": {
      "text/html": [
       "<div>\n",
       "<style scoped>\n",
       "    .dataframe tbody tr th:only-of-type {\n",
       "        vertical-align: middle;\n",
       "    }\n",
       "\n",
       "    .dataframe tbody tr th {\n",
       "        vertical-align: top;\n",
       "    }\n",
       "\n",
       "    .dataframe thead th {\n",
       "        text-align: right;\n",
       "    }\n",
       "</style>\n",
       "<table border=\"1\" class=\"dataframe\">\n",
       "  <thead>\n",
       "    <tr style=\"text-align: right;\">\n",
       "      <th></th>\n",
       "      <th>nr_entries</th>\n",
       "      <th>times_calc_plain</th>\n",
       "      <th>times_calc_encr</th>\n",
       "      <th>factor</th>\n",
       "    </tr>\n",
       "  </thead>\n",
       "  <tbody>\n",
       "    <tr>\n",
       "      <th>0</th>\n",
       "      <td>25.0</td>\n",
       "      <td>0.000961</td>\n",
       "      <td>18.171822</td>\n",
       "      <td>18913.0</td>\n",
       "    </tr>\n",
       "    <tr>\n",
       "      <th>1</th>\n",
       "      <td>40.0</td>\n",
       "      <td>0.000249</td>\n",
       "      <td>22.891470</td>\n",
       "      <td>91791.0</td>\n",
       "    </tr>\n",
       "    <tr>\n",
       "      <th>2</th>\n",
       "      <td>50.0</td>\n",
       "      <td>0.000193</td>\n",
       "      <td>29.466722</td>\n",
       "      <td>152961.0</td>\n",
       "    </tr>\n",
       "    <tr>\n",
       "      <th>3</th>\n",
       "      <td>60.0</td>\n",
       "      <td>0.000165</td>\n",
       "      <td>33.906683</td>\n",
       "      <td>205810.0</td>\n",
       "    </tr>\n",
       "    <tr>\n",
       "      <th>4</th>\n",
       "      <td>75.0</td>\n",
       "      <td>0.000165</td>\n",
       "      <td>42.550858</td>\n",
       "      <td>257163.0</td>\n",
       "    </tr>\n",
       "    <tr>\n",
       "      <th>5</th>\n",
       "      <td>90.0</td>\n",
       "      <td>0.000144</td>\n",
       "      <td>51.111129</td>\n",
       "      <td>353755.0</td>\n",
       "    </tr>\n",
       "    <tr>\n",
       "      <th>6</th>\n",
       "      <td>100.0</td>\n",
       "      <td>0.000130</td>\n",
       "      <td>56.257546</td>\n",
       "      <td>431373.0</td>\n",
       "    </tr>\n",
       "  </tbody>\n",
       "</table>\n",
       "</div>"
      ],
      "text/plain": [
       "   nr_entries  times_calc_plain  times_calc_encr    factor\n",
       "0        25.0          0.000961        18.171822   18913.0\n",
       "1        40.0          0.000249        22.891470   91791.0\n",
       "2        50.0          0.000193        29.466722  152961.0\n",
       "3        60.0          0.000165        33.906683  205810.0\n",
       "4        75.0          0.000165        42.550858  257163.0\n",
       "5        90.0          0.000144        51.111129  353755.0\n",
       "6       100.0          0.000130        56.257546  431373.0"
      ]
     },
     "execution_count": 28,
     "metadata": {},
     "output_type": "execute_result"
    }
   ],
   "source": [
    "merged = pd.merge(df_dist_calc_plain[['nr_entries','times_calc_plain']], df_dist_calc[['nr_entries', 'times_calc_encr']], on='nr_entries')\n",
    "merged = merged.assign(factor=merged['times_calc_encr'] / merged['times_calc_plain'])\n",
    "merged['factor'] = merged['factor'].round()\n",
    "\n",
    "merged"
   ]
  },
  {
   "cell_type": "code",
   "execution_count": 24,
   "id": "3d8f5280",
   "metadata": {},
   "outputs": [],
   "source": [
    "df_dist_calc_plain = pd.read_csv('df_dist_calc_plain.csv')\n",
    "df_dist_calc = pd.read_csv('df_dist_calc.csv')"
   ]
  },
  {
   "cell_type": "code",
   "execution_count": 26,
   "id": "10b87b91",
   "metadata": {},
   "outputs": [],
   "source": [
    "df_dist_calc_plain.rename(columns={'times_calc': 'times_calc_plain'}, inplace=True)\n",
    "df_dist_calc.rename(columns={'times_calc': 'times_calc_encr'}, inplace=True)"
   ]
  },
  {
   "cell_type": "code",
   "execution_count": null,
   "id": "f2199369",
   "metadata": {},
   "outputs": [],
   "source": []
  }
 ],
 "metadata": {
  "kernelspec": {
   "display_name": "Python 3 (ipykernel)",
   "language": "python",
   "name": "python3"
  },
  "language_info": {
   "codemirror_mode": {
    "name": "ipython",
    "version": 3
   },
   "file_extension": ".py",
   "mimetype": "text/x-python",
   "name": "python",
   "nbconvert_exporter": "python",
   "pygments_lexer": "ipython3",
   "version": "3.8.10"
  }
 },
 "nbformat": 4,
 "nbformat_minor": 5
}
